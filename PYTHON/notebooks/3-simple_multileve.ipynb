{
 "cells": [
  {
   "cell_type": "markdown",
   "metadata": {},
   "source": [
    "[Hierarchical Time Series Using PyMC](https://charlescopley.medium.com/heirarchical-time-series-using-pymc-29acd6a7c401)"
   ]
  },
  {
   "cell_type": "code",
   "execution_count": null,
   "metadata": {},
   "outputs": [
    {
     "ename": "",
     "evalue": "",
     "output_type": "error",
     "traceback": [
      "\u001b[1;31mFailed to start the Kernel. \n",
      "\u001b[1;31mUnable to start Kernel '.venv (Python 3.11.2)' due to a timeout waiting for the ports to get used. \n",
      "\u001b[1;31mView Jupyter <a href='command:jupyter.viewOutput'>log</a> for further details."
     ]
    }
   ],
   "source": [
    "import numpy as np\n",
    "import matplotlib.pyplot as plt\n",
    "import pymc as pm\n",
    "\n",
    "# Simulating some data\n",
    "np.random.seed(0)\n",
    "\n",
    "n_groups      = 3  # number of groups\n",
    "n_data_points = 100  # number of data points per group\n",
    "\n",
    "x               = np.tile(np.linspace(0, 10, n_data_points), n_groups)\n",
    "group_indicator = np.repeat(np.arange(n_groups), n_data_points)\n",
    "slope_true      = np.random.normal(0, 1, size=n_groups)\n",
    "intercept_true  = np.random.normal(2, 1, size=n_groups)\n",
    "\n",
    "y = slope_true[group_indicator]*x + intercept_true[group_indicator] + np.random.normal(0, 1, size=n_groups*n_data_points)\n"
   ]
  },
  {
   "cell_type": "code",
   "execution_count": null,
   "metadata": {},
   "outputs": [],
   "source": [
    "x"
   ]
  },
  {
   "cell_type": "code",
   "execution_count": null,
   "metadata": {},
   "outputs": [],
   "source": [
    "colors = ['b', 'g', 'r']  # Define different colors for each group\n",
    "\n",
    "plt.figure(figsize=(10, 5))\n",
    "\n",
    "# Plot raw data for each group\n",
    "for i in range(n_groups):\n",
    "    plt.plot(x[group_indicator == i], y[group_indicator == i], 'o', color=colors[i], label=f'Group {i+1}')\n",
    "\n",
    "plt.title('Raw Data with Groups')\n",
    "plt.xlabel('Time')\n",
    "plt.ylabel('Value')\n",
    "plt.legend()\n",
    "plt.show()"
   ]
  },
  {
   "cell_type": "code",
   "execution_count": null,
   "metadata": {},
   "outputs": [],
   "source": [
    "with pm.Model() as hierarchical_model:\n",
    "    # Hyperpriors\n",
    "    mu_alpha = pm.Normal('mu_alpha', mu=0, sigma=10)\n",
    "    sigma_alpha = pm.HalfNormal('sigma_alpha', sigma=10)\n",
    "    mu_beta = pm.Normal('mu_beta', mu=0, sigma=10)\n",
    "    sigma_beta = pm.HalfNormal('sigma_beta', sigma=10)\n",
    "  \n",
    "    # Priors\n",
    "    alpha = pm.Normal('alpha', mu=mu_alpha, sigma=sigma_alpha, shape=n_groups)  # group-specific intercepts\n",
    "    beta = pm.Normal('beta', mu=mu_beta, sigma=sigma_beta, shape=n_groups)  # group-specific slopes\n",
    "    sigma = pm.HalfNormal('sigma', sigma=1)\n",
    "\n",
    "    # Expected value\n",
    "    mu = alpha[group_indicator] + beta[group_indicator] * x\n",
    "\n",
    "    # Likelihood\n",
    "    y_obs = pm.Normal('y_obs', mu=mu, sigma=sigma, observed=y)\n",
    "\n",
    "    # Sampling\n",
    "    trace = pm.sample(2000, tune=1000, nuts_sampler = \"numpyro\")"
   ]
  },
  {
   "cell_type": "code",
   "execution_count": null,
   "metadata": {},
   "outputs": [],
   "source": [
    "# Checking the trace\n",
    "pm.plot_trace(trace,var_names=['alpha','beta'])\n",
    "plt.show()"
   ]
  },
  {
   "cell_type": "code",
   "execution_count": null,
   "metadata": {},
   "outputs": [],
   "source": [
    "# Posterior samples\n",
    "alpha_samples = trace.posterior['alpha'].values\n",
    "beta_samples = trace.posterior['beta'].values\n",
    "\n",
    "# New x values for predictions\n",
    "x_new = np.linspace(0, 10, 200)\n",
    "\n",
    "plt.figure(figsize=(10, 5))\n",
    "\n",
    "# Plot raw data and predictions for each group\n",
    "for i in range(n_groups):\n",
    "    # Plot raw data\n",
    "    \n",
    "    plt.plot(x[group_indicator == i], y[group_indicator == i], 'o', color=colors[i], label=f'Group {i+1} observed')\n",
    "    x_new = x[group_indicator == i]\n",
    "    # Generate and plot predictions\n",
    "    alpha = trace.posterior.sel(alpha_dim_0=i,beta_dim_0=i)['alpha'].values\n",
    "    beta = trace.posterior.sel(alpha_dim_0=i,beta_dim_0=i)['beta'].values\n",
    "    y_hat = alpha[..., None] + beta[..., None] * x_new[None,:]\n",
    "    y_hat_mean = y_hat.mean(axis=(0, 1))\n",
    "    y_hat_std = y_hat.std(axis=(0, 1))\n",
    "    plt.plot(x_new, y_hat_mean, color=colors[i], label=f'Group {i+1} predicted')\n",
    "    plt.fill_between(x_new, y_hat_mean - 2*y_hat_std, y_hat_mean + 2*y_hat_std, color=colors[i], alpha=0.3)\n",
    "\n",
    "plt.title('Raw Data with Posterior Predictions by Group')\n",
    "plt.xlabel('Time')\n",
    "plt.ylabel('Value')\n",
    "plt.legend()\n",
    "plt.show()"
   ]
  }
 ],
 "metadata": {
  "kernelspec": {
   "display_name": ".venv",
   "language": "python",
   "name": "python3"
  },
  "language_info": {
   "name": "python",
   "version": "3.11.2"
  },
  "orig_nbformat": 4
 },
 "nbformat": 4,
 "nbformat_minor": 2
}
